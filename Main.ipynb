{
 "cells": [
  {
   "cell_type": "code",
   "execution_count": null,
   "id": "18a9eb68-b008-4b2e-8560-407145f1abf7",
   "metadata": {},
   "outputs": [
    {
     "name": "stdout",
     "output_type": "stream",
     "text": [
      "Enter username:  muhammad\n",
      "Enter password:  hello\n"
     ]
    },
    {
     "name": "stdout",
     "output_type": "stream",
     "text": [
      "Login successful!\n",
      "\n",
      "Matrix Operations Menu:\n",
      "1. Add Matrices\n",
      "2. Subtract Matrices\n",
      "3. Multiply Matrices\n",
      "4. Divide Matrices\n",
      "5. Compare Matrices\n",
      "6. Find Inverse\n",
      "7. Compute Matrix Power\n",
      "8. Find Eigenvalues\n",
      "9. Exit\n"
     ]
    },
    {
     "name": "stdout",
     "output_type": "stream",
     "text": [
      "Choose an option (1-9):  1\n"
     ]
    },
    {
     "name": "stdout",
     "output_type": "stream",
     "text": [
      "Enter the elements of matrix:\n"
     ]
    },
    {
     "name": "stdout",
     "output_type": "stream",
     "text": [
      "a b c d:  1 2 3 4\n"
     ]
    },
    {
     "name": "stdout",
     "output_type": "stream",
     "text": [
      "Enter the elements of the second matrix (required for this operation):\n"
     ]
    },
    {
     "name": "stdout",
     "output_type": "stream",
     "text": [
      "a b c d:  4 5 6 7\n"
     ]
    },
    {
     "name": "stdout",
     "output_type": "stream",
     "text": [
      "Resulting Matrix:\n",
      "[[ 5.0  7.0]\n",
      " [ 9.0  11.0]]\n",
      "\n",
      "Matrix Operations Menu:\n",
      "1. Add Matrices\n",
      "2. Subtract Matrices\n",
      "3. Multiply Matrices\n",
      "4. Divide Matrices\n",
      "5. Compare Matrices\n",
      "6. Find Inverse\n",
      "7. Compute Matrix Power\n",
      "8. Find Eigenvalues\n",
      "9. Exit\n"
     ]
    },
    {
     "name": "stdout",
     "output_type": "stream",
     "text": [
      "Choose an option (1-9):  9\n"
     ]
    },
    {
     "name": "stdout",
     "output_type": "stream",
     "text": [
      "Exiting program. Goodbye!\n"
     ]
    }
   ],
   "source": [
    "# GroupB15\n",
    "# Contact Person: Muhammad MAIRAJ (23098864d)\n",
    "\n",
    "from Login import login\n",
    "from Matrix import Mat2x2\n",
    "\n",
    "def main():\n",
    "    # Ensure user logs in\n",
    "    user_file = \"user_data.txt\"\n",
    "    if not login(user_file):\n",
    "        return\n",
    "\n",
    "    # Start the matrix operations\n",
    "    while True:\n",
    "        print(\"\\nMatrix Operations Menu:\")\n",
    "        print(\"1. Add Matrices\")\n",
    "        print(\"2. Subtract Matrices\")\n",
    "        print(\"3. Multiply Matrices\")\n",
    "        print(\"4. Divide Matrices\")\n",
    "        print(\"5. Compare Matrices\")\n",
    "        print(\"6. Find Inverse\")\n",
    "        print(\"7. Compute Matrix Power\")\n",
    "        print(\"8. Find Eigenvalues\")\n",
    "        print(\"9. Exit\")\n",
    "        choice = input(\"Choose an option (1-9): \")\n",
    "\n",
    "        if choice == '9':\n",
    "            print(\"Exiting program. Goodbye!\")\n",
    "            break\n",
    "\n",
    "        try:\n",
    "            # Input the first matrix for all operations\n",
    "            print(\"Enter the elements of matrix:\")\n",
    "            a1, b1, c1, d1 = map(float, input(\"a b c d: \").split())\n",
    "            matrix1 = Mat2x2(a1, b1, c1, d1)\n",
    "\n",
    "            if choice in ['1', '2', '3', '4', '5']:  # Operations requiring two matrices\n",
    "                print(\"Enter the elements of the second matrix (required for this operation):\")\n",
    "                a2, b2, c2, d2 = map(float, input(\"a b c d: \").split())\n",
    "                matrix2 = Mat2x2(a2, b2, c2, d2)\n",
    "\n",
    "            if choice == '1':  # Addition\n",
    "                result = matrix1.add(matrix2)\n",
    "                print(f\"Resulting Matrix:\\n{result}\")\n",
    "            elif choice == '2':  # Subtraction\n",
    "                result = matrix1.subtract(matrix2)\n",
    "                print(f\"Resulting Matrix:\\n{result}\")\n",
    "            elif choice == '3':  # Multiplication\n",
    "                result = matrix1.multiply(matrix2)\n",
    "                print(f\"Resulting Matrix:\\n{result}\")\n",
    "            elif choice == '4':  # Division\n",
    "                result = matrix1.divide(matrix2)\n",
    "                print(f\"Resulting Matrix:\\n{result}\")\n",
    "            elif choice == '5':  # Compare Determinants\n",
    "                comparison = matrix1.compare(matrix2)\n",
    "                if comparison == 0:\n",
    "                    print(\"Both matrices have the same determinant.\")\n",
    "                elif comparison == 1:\n",
    "                    print(\"The first matrix has a larger determinant.\")\n",
    "                else:\n",
    "                    print(\"The second matrix has a larger determinant.\")\n",
    "            elif choice == '6':  # Inverse\n",
    "                result = matrix1.inverse()\n",
    "                print(f\"Inverse Matrix:\\n{result}\")\n",
    "            elif choice == '7':  # Power\n",
    "                n = int(input(\"Enter the power (non-negative integer): \"))\n",
    "                result = matrix1.power(n)\n",
    "                print(f\"Resulting Matrix:\\n{result}\")\n",
    "            elif choice == '8':  # Inverse# Eigenvalues\n",
    "                eigenvalues = matrix1.find_eigenvalues()\n",
    "                print(f\"Eigenvalues of the matrix: {eigenvalues}\")\n",
    "\n",
    "        except ValueError as ve:\n",
    "            print(f\"Error: {ve}\")\n",
    "        except Exception as e:\n",
    "            print(f\"Unexpected error: {e}\")\n",
    "\n",
    "# Run the main function\n",
    "if __name__ == \"__main__\":\n",
    "    main()\n"
   ]
  },
  {
   "cell_type": "code",
   "execution_count": null,
   "id": "3b180b9c-c5ba-4e40-b970-87227628d1cb",
   "metadata": {},
   "outputs": [],
   "source": []
  }
 ],
 "metadata": {
  "kernelspec": {
   "display_name": "Python 3 (ipykernel)",
   "language": "python",
   "name": "python3"
  },
  "language_info": {
   "codemirror_mode": {
    "name": "ipython",
    "version": 3
   },
   "file_extension": ".py",
   "mimetype": "text/x-python",
   "name": "python",
   "nbconvert_exporter": "python",
   "pygments_lexer": "ipython3",
   "version": "3.12.4"
  }
 },
 "nbformat": 4,
 "nbformat_minor": 5
}
